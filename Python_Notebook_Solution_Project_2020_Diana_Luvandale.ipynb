{
  "nbformat": 4,
  "nbformat_minor": 0,
  "metadata": {
    "colab": {
      "name": "Python_Notebook_Solution_Project_2020_Diana_Luvandale",
      "provenance": [],
      "collapsed_sections": [],
      "toc_visible": true,
      "machine_shape": "hm"
    },
    "kernelspec": {
      "name": "python3",
      "display_name": "Python 3"
    }
  },
  "cells": [
    {
      "cell_type": "markdown",
      "metadata": {
        "id": "QXqnJtrH9Vjf",
        "colab_type": "text"
      },
      "source": [
        "# Luvandale Diana Data Science Prep Independent Project: Week 4"
      ]
    },
    {
      "cell_type": "markdown",
      "metadata": {
        "id": "JPEoqSZh9h5b",
        "colab_type": "text"
      },
      "source": [
        "**Question**\n",
        "\n",
        "In this week's independent project, you will be working as a data scientist working for an electric car-sharing service company. You have been tasked to process stations data to understand electric car usage over time by solving for the following research question;\n",
        "\n",
        "Questions for consideration:\n",
        "* Identify the most popular hour of the day for picking up a shared electric car (Bluecar) in the city of Paris over the month of April 2018.\n",
        "\n",
        "Bonus Questions\n",
        "* What is the most popular hour for returning cars?\n",
        "* What station is the most popular? Overall? At the most popular picking hour?\n",
        "* What postal code is the most popular for picking up Blue cars? Does the most popular station belong to that postal code? Overall? At the most popular picking hour?\n",
        "* Do the results change if you consider Utilib and Utilib 1.4 instead of Blue cars? \n",
        "\n",
        "**Datasets Provided**\n",
        "\n",
        "* You can get the data and the dataset description for this Independent project here [http://bit.ly/Autolibdataset] and here respectively [https://drive.google.com/a/moringaschool.com/file/d/13DXF2CFWQLeYxxHFekng8HJnH_jtbfpN/view?usp=sharing]) . The dataset contains data collected for a period of 3 days.\n",
        "\n",
        "\n"
      ]
    },
    {
      "cell_type": "markdown",
      "metadata": {
        "id": "pQRmVEWD-l5J",
        "colab_type": "text"
      },
      "source": [
        "### Importing our Libraries"
      ]
    },
    {
      "cell_type": "code",
      "metadata": {
        "id": "UYwdHvzM9BYs",
        "colab_type": "code",
        "colab": {}
      },
      "source": [
        "# Importing the required libraries\n",
        "# ---\n",
        "# \n",
        "import pandas as pd\n",
        "import numpy as np\n",
        "import seaborn as sns\n",
        "import matplotlib.pyplot as plt\n",
        "%matplotlib inline"
      ],
      "execution_count": 0,
      "outputs": []
    },
    {
      "cell_type": "markdown",
      "metadata": {
        "id": "CLrIuAwK-pmM",
        "colab_type": "text"
      },
      "source": [
        "### Loading our Datasets"
      ]
    },
    {
      "cell_type": "code",
      "metadata": {
        "id": "BY8FjKKf-uPA",
        "colab_type": "code",
        "outputId": "64656008-967a-4384-94cd-5e479d5b3f49",
        "colab": {
          "base_uri": "https://localhost:8080/",
          "height": 428
        }
      },
      "source": [
        "# Dataset 1\n",
        "# ---\n",
        "# Loading dataset 1 and viewing the columns\n",
        "# ---\n",
        "# \n",
        "df = pd.read_csv('http://bit.ly/Autolibdataset')\n",
        "df.head()"
      ],
      "execution_count": 0,
      "outputs": [
        {
          "output_type": "execute_result",
          "data": {
            "text/html": [
              "<div>\n",
              "<style scoped>\n",
              "    .dataframe tbody tr th:only-of-type {\n",
              "        vertical-align: middle;\n",
              "    }\n",
              "\n",
              "    .dataframe tbody tr th {\n",
              "        vertical-align: top;\n",
              "    }\n",
              "\n",
              "    .dataframe thead th {\n",
              "        text-align: right;\n",
              "    }\n",
              "</style>\n",
              "<table border=\"1\" class=\"dataframe\">\n",
              "  <thead>\n",
              "    <tr style=\"text-align: right;\">\n",
              "      <th></th>\n",
              "      <th>Unnamed: 0</th>\n",
              "      <th>Address</th>\n",
              "      <th>Cars</th>\n",
              "      <th>Bluecar counter</th>\n",
              "      <th>Utilib counter</th>\n",
              "      <th>Utilib 1.4 counter</th>\n",
              "      <th>Charge Slots</th>\n",
              "      <th>Charging Status</th>\n",
              "      <th>City</th>\n",
              "      <th>Displayed comment</th>\n",
              "      <th>ID</th>\n",
              "      <th>Kind</th>\n",
              "      <th>Geo point</th>\n",
              "      <th>Postal code</th>\n",
              "      <th>Public name</th>\n",
              "      <th>Rental status</th>\n",
              "      <th>Scheduled at</th>\n",
              "      <th>Slots</th>\n",
              "      <th>Station type</th>\n",
              "      <th>Status</th>\n",
              "      <th>Subscription status</th>\n",
              "      <th>year</th>\n",
              "      <th>month</th>\n",
              "      <th>day</th>\n",
              "      <th>hour</th>\n",
              "      <th>minute</th>\n",
              "    </tr>\n",
              "  </thead>\n",
              "  <tbody>\n",
              "    <tr>\n",
              "      <th>0</th>\n",
              "      <td>0</td>\n",
              "      <td>24 Rue Vulpian</td>\n",
              "      <td>3</td>\n",
              "      <td>3</td>\n",
              "      <td>1</td>\n",
              "      <td>0</td>\n",
              "      <td>1</td>\n",
              "      <td>operational</td>\n",
              "      <td>Paris</td>\n",
              "      <td>NaN</td>\n",
              "      <td>paris-vulpian-24</td>\n",
              "      <td>STATION</td>\n",
              "      <td>48.8310493, 2.3460584</td>\n",
              "      <td>75013</td>\n",
              "      <td>Paris/Vulpian/24</td>\n",
              "      <td>operational</td>\n",
              "      <td>NaN</td>\n",
              "      <td>1</td>\n",
              "      <td>station</td>\n",
              "      <td>ok</td>\n",
              "      <td>nonexistent</td>\n",
              "      <td>2018</td>\n",
              "      <td>4</td>\n",
              "      <td>1</td>\n",
              "      <td>0</td>\n",
              "      <td>0</td>\n",
              "    </tr>\n",
              "    <tr>\n",
              "      <th>1</th>\n",
              "      <td>1</td>\n",
              "      <td>8 Boulevard Richard Lenoir</td>\n",
              "      <td>0</td>\n",
              "      <td>0</td>\n",
              "      <td>0</td>\n",
              "      <td>0</td>\n",
              "      <td>1</td>\n",
              "      <td>operational</td>\n",
              "      <td>Paris</td>\n",
              "      <td>NaN</td>\n",
              "      <td>paris-richardlenoir-8</td>\n",
              "      <td>STATION</td>\n",
              "      <td>48.8545026, 2.370183</td>\n",
              "      <td>75011</td>\n",
              "      <td>Paris/Richard Lenoir/8</td>\n",
              "      <td>operational</td>\n",
              "      <td>NaN</td>\n",
              "      <td>3</td>\n",
              "      <td>station</td>\n",
              "      <td>ok</td>\n",
              "      <td>nonexistent</td>\n",
              "      <td>2018</td>\n",
              "      <td>4</td>\n",
              "      <td>1</td>\n",
              "      <td>0</td>\n",
              "      <td>0</td>\n",
              "    </tr>\n",
              "    <tr>\n",
              "      <th>2</th>\n",
              "      <td>2</td>\n",
              "      <td>4 Rue Charles Bossut</td>\n",
              "      <td>3</td>\n",
              "      <td>3</td>\n",
              "      <td>0</td>\n",
              "      <td>0</td>\n",
              "      <td>1</td>\n",
              "      <td>operational</td>\n",
              "      <td>Paris</td>\n",
              "      <td>NaN</td>\n",
              "      <td>paris-charlesbossut-4</td>\n",
              "      <td>STATION</td>\n",
              "      <td>48.8431847, 2.3837959</td>\n",
              "      <td>75012</td>\n",
              "      <td>Paris/Charles Bossut/4</td>\n",
              "      <td>operational</td>\n",
              "      <td>NaN</td>\n",
              "      <td>2</td>\n",
              "      <td>station</td>\n",
              "      <td>ok</td>\n",
              "      <td>nonexistent</td>\n",
              "      <td>2018</td>\n",
              "      <td>4</td>\n",
              "      <td>1</td>\n",
              "      <td>0</td>\n",
              "      <td>0</td>\n",
              "    </tr>\n",
              "    <tr>\n",
              "      <th>3</th>\n",
              "      <td>3</td>\n",
              "      <td>3 avenue Claude Vellefaux</td>\n",
              "      <td>4</td>\n",
              "      <td>4</td>\n",
              "      <td>0</td>\n",
              "      <td>0</td>\n",
              "      <td>0</td>\n",
              "      <td>operational</td>\n",
              "      <td>Paris</td>\n",
              "      <td>NaN</td>\n",
              "      <td>paris-claudevellefaux-3</td>\n",
              "      <td>STATION</td>\n",
              "      <td>48.8740623, 2.3703034</td>\n",
              "      <td>75010</td>\n",
              "      <td>Paris/Claude Vellefaux/3</td>\n",
              "      <td>operational</td>\n",
              "      <td>NaN</td>\n",
              "      <td>1</td>\n",
              "      <td>station</td>\n",
              "      <td>ok</td>\n",
              "      <td>nonexistent</td>\n",
              "      <td>2018</td>\n",
              "      <td>4</td>\n",
              "      <td>1</td>\n",
              "      <td>0</td>\n",
              "      <td>0</td>\n",
              "    </tr>\n",
              "    <tr>\n",
              "      <th>4</th>\n",
              "      <td>4</td>\n",
              "      <td>236 Boulevard Voltaire</td>\n",
              "      <td>1</td>\n",
              "      <td>1</td>\n",
              "      <td>0</td>\n",
              "      <td>0</td>\n",
              "      <td>1</td>\n",
              "      <td>operational</td>\n",
              "      <td>Paris</td>\n",
              "      <td>NaN</td>\n",
              "      <td>paris-voltaire-236</td>\n",
              "      <td>STATION</td>\n",
              "      <td>48.852023, 2.389719</td>\n",
              "      <td>75011</td>\n",
              "      <td>Paris/Voltaire/236</td>\n",
              "      <td>operational</td>\n",
              "      <td>NaN</td>\n",
              "      <td>4</td>\n",
              "      <td>station</td>\n",
              "      <td>ok</td>\n",
              "      <td>nonexistent</td>\n",
              "      <td>2018</td>\n",
              "      <td>4</td>\n",
              "      <td>1</td>\n",
              "      <td>0</td>\n",
              "      <td>0</td>\n",
              "    </tr>\n",
              "  </tbody>\n",
              "</table>\n",
              "</div>"
            ],
            "text/plain": [
              "   Unnamed: 0                     Address  Cars  ...  day  hour  minute\n",
              "0           0              24 Rue Vulpian     3  ...    1     0       0\n",
              "1           1  8 Boulevard Richard Lenoir     0  ...    1     0       0\n",
              "2           2        4 Rue Charles Bossut     3  ...    1     0       0\n",
              "3           3   3 avenue Claude Vellefaux     4  ...    1     0       0\n",
              "4           4      236 Boulevard Voltaire     1  ...    1     0       0\n",
              "\n",
              "[5 rows x 26 columns]"
            ]
          },
          "metadata": {
            "tags": []
          },
          "execution_count": 64
        }
      ]
    },
    {
      "cell_type": "code",
      "metadata": {
        "id": "MbJXTMK0-wjJ",
        "colab_type": "code",
        "outputId": "d42eed32-b4ee-4cad-e9be-d29167d74409",
        "colab": {
          "base_uri": "https://localhost:8080/",
          "height": 544
        }
      },
      "source": [
        "# Dataset 1\n",
        "# ---\n",
        "# Checking the information for dataset 1\n",
        "# ---\n",
        "# \n",
        "df.info()"
      ],
      "execution_count": 0,
      "outputs": [
        {
          "output_type": "stream",
          "text": [
            "<class 'pandas.core.frame.DataFrame'>\n",
            "RangeIndex: 14421829 entries, 0 to 14421828\n",
            "Data columns (total 26 columns):\n",
            "Unnamed: 0             int64\n",
            "Address                object\n",
            "Cars                   int64\n",
            "Bluecar counter        int64\n",
            "Utilib counter         int64\n",
            "Utilib 1.4 counter     int64\n",
            "Charge Slots           int64\n",
            "Charging Status        object\n",
            "City                   object\n",
            "Displayed comment      object\n",
            "ID                     object\n",
            "Kind                   object\n",
            "Geo point              object\n",
            "Postal code            int64\n",
            "Public name            object\n",
            "Rental status          object\n",
            "Scheduled at           object\n",
            "Slots                  int64\n",
            "Station type           object\n",
            "Status                 object\n",
            "Subscription status    object\n",
            "year                   int64\n",
            "month                  int64\n",
            "day                    int64\n",
            "hour                   int64\n",
            "minute                 int64\n",
            "dtypes: int64(13), object(13)\n",
            "memory usage: 2.8+ GB\n"
          ],
          "name": "stdout"
        }
      ]
    },
    {
      "cell_type": "markdown",
      "metadata": {
        "id": "c4A2EqX6-0V5",
        "colab_type": "text"
      },
      "source": [
        "### Data Cleaning "
      ]
    },
    {
      "cell_type": "code",
      "metadata": {
        "id": "c_piuur0-1Tq",
        "colab_type": "code",
        "outputId": "8b27feec-e38e-4751-f551-97f20f234014",
        "colab": {
          "base_uri": "https://localhost:8080/",
          "height": 34
        }
      },
      "source": [
        "\n",
        "# -> Dropping irrelevant columns \n",
        "\n",
        "df.drop(['Unnamed: 0','Cars', 'Displayed comment'], axis = 1, inplace = True)\n",
        "df.shape"
      ],
      "execution_count": 0,
      "outputs": [
        {
          "output_type": "execute_result",
          "data": {
            "text/plain": [
              "(14421829, 23)"
            ]
          },
          "metadata": {
            "tags": []
          },
          "execution_count": 68
        }
      ]
    },
    {
      "cell_type": "code",
      "metadata": {
        "id": "EtLPNjNbBnSz",
        "colab_type": "code",
        "outputId": "fb3395a7-01a0-4aa7-f6b5-ffa61059eb6d",
        "colab": {
          "base_uri": "https://localhost:8080/",
          "height": 279
        }
      },
      "source": [
        "# Data Cleaning: Outliers - 1\n",
        "# ---\n",
        "# -> Checking for outliers\n",
        "# ---\n",
        "# \n",
        "# Checking for outliers of Bluecars by day\n",
        "# ---\n",
        "bplot=sns.boxplot( x ='Bluecar counter', y= 'day',\n",
        "                 data=df, \n",
        "                 width=0.5,\n",
        "                 palette=\"colorblind\")\n",
        "\n",
        "# Observation\n",
        "# ---\n",
        "# There are no outliers\n",
        "# ---"
      ],
      "execution_count": 0,
      "outputs": [
        {
          "output_type": "display_data",
          "data": {
            "image/png": "[encoded data removed]",
            "text/plain": [
              "<Figure size 432x288 with 1 Axes>"
            ]
          },
          "metadata": {
            "tags": []
          }
        }
      ]
    },
    {
      "cell_type": "code",
      "metadata": {
        "id": "TvBGTmhZD0Y1",
        "colab_type": "code",
        "outputId": "a22b3056-2454-4ef8-8bd2-927e5f7e4f47",
        "colab": {
          "base_uri": "https://localhost:8080/",
          "height": 425
        }
      },
      "source": [
        "\n",
        "# -> Checking for missing values\n",
        "\n",
        "df.isnull().sum()\n",
        "\n",
        "# Retaining the column because it might contain important values"
      ],
      "execution_count": 0,
      "outputs": [
        {
          "output_type": "execute_result",
          "data": {
            "text/plain": [
              "Address                       0\n",
              "Bluecar counter               0\n",
              "Utilib counter                0\n",
              "Utilib 1.4 counter            0\n",
              "Charge Slots                  0\n",
              "Charging Status               0\n",
              "City                          0\n",
              "ID                            0\n",
              "Kind                          0\n",
              "Geo point                     0\n",
              "Postal code                   0\n",
              "Public name                   0\n",
              "Rental status                 0\n",
              "Scheduled at           14310213\n",
              "Slots                         0\n",
              "Station type                  0\n",
              "Status                        0\n",
              "Subscription status           0\n",
              "year                          0\n",
              "month                         0\n",
              "day                           0\n",
              "hour                          0\n",
              "minute                        0\n",
              "dtype: int64"
            ]
          },
          "metadata": {
            "tags": []
          },
          "execution_count": 72
        }
      ]
    },
    {
      "cell_type": "code",
      "metadata": {
        "id": "SSW_ALFCGGEO",
        "colab_type": "code",
        "outputId": "1715e499-fb60-4e5d-e18f-5227cd8fe522",
        "colab": {
          "base_uri": "https://localhost:8080/",
          "height": 34
        }
      },
      "source": [
        "#  Dropping duplicates\n",
        "\n",
        "df = df.drop_duplicates()\n",
        "df.shape"
      ],
      "execution_count": 0,
      "outputs": [
        {
          "output_type": "execute_result",
          "data": {
            "text/plain": [
              "(14278939, 23)"
            ]
          },
          "metadata": {
            "tags": []
          },
          "execution_count": 73
        }
      ]
    },
    {
      "cell_type": "code",
      "metadata": {
        "id": "rBwr60I-Hbro",
        "colab_type": "code",
        "colab": {}
      },
      "source": [
        "\n",
        "# -> Removing spaces and converting column names to lower case for standardization purposes\n",
        "df.columns = df.columns.str.strip().str.lower().str.replace(' ', '_')"
      ],
      "execution_count": 0,
      "outputs": []
    },
    {
      "cell_type": "code",
      "metadata": {
        "id": "0mbIxteAIbs8",
        "colab_type": "code",
        "colab": {}
      },
      "source": [
        "# Data Pre-processing: \n",
        "# ---\n",
        "# -> Adding 3  columns that will provide the status for the three cars.\n",
        "# - Positive number means that a car was returned\n",
        "# - Negative number means that a car was picked\n",
        "# - Zero means that nothing happened (that the no car was picked nor returned)\n",
        "# ---\n",
        "# \n",
        "df['bluecar_status'] = df.bluecar_counter.diff()\n",
        "df['utilib_status'] = df.utilib_counter.diff()\n",
        "df['utilib_14_status'] = df[\"utilib_1.4_counter\"].diff()"
      ],
      "execution_count": 0,
      "outputs": []
    },
    {
      "cell_type": "markdown",
      "metadata": {
        "id": "0jHOL_R--56c",
        "colab_type": "text"
      },
      "source": [
        "### Performing Data Analysis"
      ]
    },
    {
      "cell_type": "markdown",
      "metadata": {
        "id": "lJ_p2uZ6HFRB",
        "colab_type": "text"
      },
      "source": [
        "#### 1. Blue Car"
      ]
    },
    {
      "cell_type": "code",
      "metadata": {
        "id": "V5099BB9-6uV",
        "colab_type": "code",
        "outputId": "ad838fcf-23d9-4a5f-9dda-907fca4a54bd",
        "colab": {
          "base_uri": "https://localhost:8080/",
          "height": 68
        }
      },
      "source": [
        "\n",
        "# What is the most popular hour of the day for picking up an electric blue car?\n",
        "df[(df.city == 'Paris') & (df.bluecar_status < 0)].groupby('hour')['hour'].count().sort_values(ascending = False)[0:1]"
      ],
      "execution_count": 0,
      "outputs": [
        {
          "output_type": "execute_result",
          "data": {
            "text/plain": [
              "hour\n",
              "4    148287\n",
              "Name: hour, dtype: int64"
            ]
          },
          "metadata": {
            "tags": []
          },
          "execution_count": 79
        }
      ]
    },
    {
      "cell_type": "code",
      "metadata": {
        "id": "PEjSZmcnKYdX",
        "colab_type": "code",
        "outputId": "24b1113d-de46-45d4-dce7-c7f4e500e02c",
        "colab": {
          "base_uri": "https://localhost:8080/",
          "height": 68
        }
      },
      "source": [
        "\n",
        "# What is the most popular hour of the day for returning blue cars?\n",
        "df[df.bluecar_status > 0].groupby('hour')['hour'].count().sort_values(ascending = False)[0:1]"
      ],
      "execution_count": 0,
      "outputs": [
        {
          "output_type": "execute_result",
          "data": {
            "text/plain": [
              "hour\n",
              "21    249651\n",
              "Name: hour, dtype: int64"
            ]
          },
          "metadata": {
            "tags": []
          },
          "execution_count": 80
        }
      ]
    },
    {
      "cell_type": "code",
      "metadata": {
        "id": "eUlFv1toKpUg",
        "colab_type": "code",
        "outputId": "8eba526e-3d23-4c51-ebc2-9fde72dd6bd1",
        "colab": {
          "base_uri": "https://localhost:8080/",
          "height": 68
        }
      },
      "source": [
        "\n",
        "# Which station are blue cars mostly picked?\n",
        "df[(df['bluecar_status'] < 0)& (df['status']=='ok')&(df['subscription_status']=='operational')].groupby('public_name')['public_name'].count().sort_values(ascending= False)[0:1]"
      ],
      "execution_count": 0,
      "outputs": [
        {
          "output_type": "execute_result",
          "data": {
            "text/plain": [
              "public_name\n",
              "Malakoff/Charles de Gaulle/Parking    9135\n",
              "Name: public_name, dtype: int64"
            ]
          },
          "metadata": {
            "tags": []
          },
          "execution_count": 81
        }
      ]
    },
    {
      "cell_type": "code",
      "metadata": {
        "id": "nPBWE_62K-Mk",
        "colab_type": "code",
        "outputId": "c2bd8f60-121b-4e3f-adb6-71d45d3831ef",
        "colab": {
          "base_uri": "https://localhost:8080/",
          "height": 68
        }
      },
      "source": [
        "\n",
        "# Which station are blue cars mostly returned?\n",
        "\n",
        "df[(df['bluecar_status'] > 0)& (df['status']=='ok')&(df['subscription_status']=='operational')].groupby('public_name')['public_name'].count().sort_values(ascending= False)[0:1]\n"
      ],
      "execution_count": 0,
      "outputs": [
        {
          "output_type": "execute_result",
          "data": {
            "text/plain": [
              "public_name\n",
              "Colombes/MarÃ©chal Joffre/30    9826\n",
              "Name: public_name, dtype: int64"
            ]
          },
          "metadata": {
            "tags": []
          },
          "execution_count": 82
        }
      ]
    },
    {
      "cell_type": "code",
      "metadata": {
        "id": "a0Qy5d4PLEqF",
        "colab_type": "code",
        "outputId": "b8c20fc4-1bf7-4265-d6a4-ddae0b95ac19",
        "colab": {
          "base_uri": "https://localhost:8080/",
          "height": 68
        }
      },
      "source": [
        "\n",
        "# Which is the most popular postal code for picking blue cars?\n",
        "\n",
        "df[(df['bluecar_status'] < 0)].groupby('postal_code')['postal_code'].count().sort_values(ascending= False)[0:1]"
      ],
      "execution_count": 0,
      "outputs": [
        {
          "output_type": "execute_result",
          "data": {
            "text/plain": [
              "postal_code\n",
              "75015    287141\n",
              "Name: postal_code, dtype: int64"
            ]
          },
          "metadata": {
            "tags": []
          },
          "execution_count": 83
        }
      ]
    },
    {
      "cell_type": "code",
      "metadata": {
        "id": "ORbh0OoXLX47",
        "colab_type": "code",
        "outputId": "28a17d27-84b3-4549-9b9a-6059ee37aa91",
        "colab": {
          "base_uri": "https://localhost:8080/",
          "height": 68
        }
      },
      "source": [
        "\n",
        "# Which is the most popular postal code for returning blue cars?\n",
        "\n",
        "df[(df['bluecar_status'] > 0)].groupby('postal_code')['postal_code'].count().sort_values(ascending= False)[0:1]"
      ],
      "execution_count": 0,
      "outputs": [
        {
          "output_type": "execute_result",
          "data": {
            "text/plain": [
              "postal_code\n",
              "75016    314044\n",
              "Name: postal_code, dtype: int64"
            ]
          },
          "metadata": {
            "tags": []
          },
          "execution_count": 84
        }
      ]
    },
    {
      "cell_type": "markdown",
      "metadata": {
        "id": "tE3ow4muHMHe",
        "colab_type": "text"
      },
      "source": [
        "#### 2. Utilib"
      ]
    },
    {
      "cell_type": "code",
      "metadata": {
        "id": "mr4kJk4JJd70",
        "colab_type": "code",
        "outputId": "a2ec6148-376d-490a-ce27-dd326d4d4989",
        "colab": {
          "base_uri": "https://localhost:8080/",
          "height": 68
        }
      },
      "source": [
        "\n",
        "# What is the most popular hour of the day for picking up an electric utilib car?\n",
        "\n",
        "df[(df.city == 'Paris') & (df.utilib_status < 0)].groupby('hour')['hour'].count().sort_values(ascending = False)[0:1]"
      ],
      "execution_count": 0,
      "outputs": [
        {
          "output_type": "execute_result",
          "data": {
            "text/plain": [
              "hour\n",
              "5    19606\n",
              "Name: hour, dtype: int64"
            ]
          },
          "metadata": {
            "tags": []
          },
          "execution_count": 85
        }
      ]
    },
    {
      "cell_type": "code",
      "metadata": {
        "id": "eDv-ZqrJLfUj",
        "colab_type": "code",
        "outputId": "80d74c40-72ba-403e-e046-b0256655b0b8",
        "colab": {
          "base_uri": "https://localhost:8080/",
          "height": 68
        }
      },
      "source": [
        "\n",
        "# What is the most popular hour of the day for returning utilib cars?\n",
        "\n",
        "df[df.utilib_status > 0].groupby('hour')['hour'].count().sort_values(ascending = False)[0:1]"
      ],
      "execution_count": 0,
      "outputs": [
        {
          "output_type": "execute_result",
          "data": {
            "text/plain": [
              "hour\n",
              "5    38106\n",
              "Name: hour, dtype: int64"
            ]
          },
          "metadata": {
            "tags": []
          },
          "execution_count": 86
        }
      ]
    },
    {
      "cell_type": "code",
      "metadata": {
        "id": "vY9jk2mnLmD9",
        "colab_type": "code",
        "outputId": "92980c88-5ebc-44c4-f9be-cb6c08a36ef3",
        "colab": {
          "base_uri": "https://localhost:8080/",
          "height": 68
        }
      },
      "source": [
        "\n",
        "# Which station are utilib cars mostly picked from?\n",
        "\n",
        "df[(df['utilib_status'] < 0)& (df['status']=='ok')&(df['subscription_status']=='operational')].groupby('public_name')['public_name'].count().sort_values(ascending= False)[0:1]"
      ],
      "execution_count": 0,
      "outputs": [
        {
          "output_type": "execute_result",
          "data": {
            "text/plain": [
              "public_name\n",
              "Boulogne-Billancourt/Gallieni/114    1711\n",
              "Name: public_name, dtype: int64"
            ]
          },
          "metadata": {
            "tags": []
          },
          "execution_count": 87
        }
      ]
    },
    {
      "cell_type": "code",
      "metadata": {
        "id": "zFc-rY6cLqzS",
        "colab_type": "code",
        "outputId": "557e588b-32da-4169-96c0-10381a42a21b",
        "colab": {
          "base_uri": "https://localhost:8080/",
          "height": 68
        }
      },
      "source": [
        "\n",
        "# Which station are utilib cars mostly returned?\n",
        "\n",
        "df[(df['utilib_status'] > 0)& (df['status']=='ok')&(df['subscription_status']=='operational')].groupby('public_name')['public_name'].count().sort_values(ascending= False)[0:1]"
      ],
      "execution_count": 0,
      "outputs": [
        {
          "output_type": "execute_result",
          "data": {
            "text/plain": [
              "public_name\n",
              "Nanterre/Gambetta/20    3020\n",
              "Name: public_name, dtype: int64"
            ]
          },
          "metadata": {
            "tags": []
          },
          "execution_count": 88
        }
      ]
    },
    {
      "cell_type": "code",
      "metadata": {
        "id": "522Y5eipL45x",
        "colab_type": "code",
        "outputId": "04f20ddf-0e32-4e36-a14c-73368f7fe557",
        "colab": {
          "base_uri": "https://localhost:8080/",
          "height": 68
        }
      },
      "source": [
        "\n",
        "# Which is the most popular postal code for picking utilib cars?\n",
        "df[(df['utilib_status'] < 0)].groupby('postal_code')['postal_code'].count().sort_values(ascending= False)[0:1]"
      ],
      "execution_count": 0,
      "outputs": [
        {
          "output_type": "execute_result",
          "data": {
            "text/plain": [
              "postal_code\n",
              "75015    45004\n",
              "Name: postal_code, dtype: int64"
            ]
          },
          "metadata": {
            "tags": []
          },
          "execution_count": 89
        }
      ]
    },
    {
      "cell_type": "code",
      "metadata": {
        "id": "0H3Ui60ZL-rS",
        "colab_type": "code",
        "outputId": "451d3d81-c370-4855-827f-72e17f363f3d",
        "colab": {
          "base_uri": "https://localhost:8080/",
          "height": 68
        }
      },
      "source": [
        "\n",
        "# Which is the most popular postal code for picking utilib cars?\n",
        "\n",
        "df[(df['utilib_status'] > 0)].groupby('postal_code')['postal_code'].count().sort_values(ascending= False)[0:1]"
      ],
      "execution_count": 0,
      "outputs": [
        {
          "output_type": "execute_result",
          "data": {
            "text/plain": [
              "postal_code\n",
              "75016    45928\n",
              "Name: postal_code, dtype: int64"
            ]
          },
          "metadata": {
            "tags": []
          },
          "execution_count": 90
        }
      ]
    }
  ]
}